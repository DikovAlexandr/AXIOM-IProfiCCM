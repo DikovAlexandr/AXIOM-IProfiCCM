{
 "cells": [
  {
   "cell_type": "markdown",
   "metadata": {},
   "source": [
    "### Приведение изображений к единому виду"
   ]
  },
  {
   "cell_type": "markdown",
   "metadata": {},
   "source": [
    "Данный код предназначен для автоматического обрезания и изменения размера изображений до квадратной формы с заданной длиной стороны (по умолчанию 720 пикселей). \n",
    "\n",
    "Основная функция `crop_and_resize` принимает путь к изображению, опционально путь для сохранения результата и желаемый размер стороны. \n",
    "Сначала изображение считывается с диска, затем из него вырезается центральная квадратная область (по меньшей стороне), после чего эта область масштабируется до нужного размера. \n",
    "Если указан путь для сохранения, результат сохраняется на диск.\n",
    "\n",
    "Применение:\n",
    "- Подготовка датасетов для машинного обучения, где требуется одинаковый размер и форма изображений (например, для нейросетей).\n",
    "- Приведение фотографий к единому виду для публикации в социальных сетях, галереях, аватарках и т.д.\n",
    "- Быстрая обработка больших коллекций изображений для визуализации или анализа.\n",
    "\n",
    "Преимущества:\n",
    "- Автоматизация рутинной задачи по приведению изображений к единому формату.\n",
    "- Сохранение центральной части изображения, что часто важно для портретов и объектов в центре кадра.\n",
    "- Простота использования и интеграции в другие проекты."
   ]
  },
  {
   "cell_type": "code",
   "execution_count": null,
   "metadata": {},
   "outputs": [],
   "source": [
    "import os\n",
    "import cv2\n",
    "import numpy as np\n",
    "from pathlib import Path\n",
    "import matplotlib.pyplot as plt"
   ]
  },
  {
   "cell_type": "code",
   "execution_count": null,
   "metadata": {},
   "outputs": [],
   "source": [
    "def crop_and_resize(img_path, \n",
    "                    out_path=None, \n",
    "                    size=720):\n",
    "    img = cv2.imread(str(img_path))\n",
    "    if img is None:\n",
    "        print(f\"No such file: {img_path}\")\n",
    "        return\n",
    "    h, w = img.shape[:2]\n",
    "    \n",
    "    min_side = min(h, w)\n",
    "    start_x = (w - min_side) // 2\n",
    "    start_y = (h - min_side) // 2\n",
    "    cropped = img[start_y:start_y+min_side, \n",
    "                  start_x:start_x+min_side]\n",
    "    \n",
    "    resized = cv2.resize(cropped, (size, size))\n",
    "    if out_path is not None:\n",
    "        cv2.imwrite(str(out_path), resized)\n",
    "\n",
    "    return resized"
   ]
  },
  {
   "cell_type": "code",
   "execution_count": null,
   "metadata": {},
   "outputs": [],
   "source": [
    "axiom_data_path = Path(\"../data/axiom_data\")\n",
    "axiom_images = os.listdir(axiom_data_path)\n",
    "\n",
    "img_path = axiom_data_path / axiom_images[0]\n",
    "res = crop_and_resize(img_path, img_path)\n",
    "plt.imshow(cv2.cvtColor(res, cv2.COLOR_BGR2RGB))\n",
    "plt.axis('off')\n",
    "plt.show()"
   ]
  },
  {
   "cell_type": "markdown",
   "metadata": {},
   "source": [
    "### Работа с видео"
   ]
  },
  {
   "cell_type": "markdown",
   "metadata": {},
   "source": [
    "Данный код предназначен для работы с видеофайлами. \n",
    "\n",
    "Он позволяет:\n",
    "- извлекать кадры из видео с определённым шагом (например, каждый 30-й кадр)\n",
    "- обрезать их до квадратной области по центру и изменять размер до заданного значения (по умолчанию 720 пикселей). \n",
    "\n",
    "Полученные изображения сохраняются в указанную папку. Это удобно для подготовки датасетов, анализа видеоматериалов или создания подборок изображений из видео."
   ]
  },
  {
   "cell_type": "code",
   "execution_count": null,
   "metadata": {},
   "outputs": [],
   "source": [
    "def extract_frames_from_video(video_path, \n",
    "                              out_dir, \n",
    "                              step=30, \n",
    "                              size=720):\n",
    "    out_dir = Path(out_dir)\n",
    "    out_dir.mkdir(parents=True, exist_ok=True)\n",
    "    cap = cv2.VideoCapture(str(video_path))\n",
    "    frame_idx = 0\n",
    "    saved_idx = 0\n",
    "    while cap.isOpened():\n",
    "        ret, frame = cap.read()\n",
    "        if not ret:\n",
    "            break\n",
    "        if frame_idx % step == 0:\n",
    "            h, w = frame.shape[:2]\n",
    "            min_side = min(h, w)\n",
    "            start_x = (w - min_side) // 2\n",
    "            start_y = (h - min_side) // 2\n",
    "            cropped = frame[start_y:start_y+min_side, \n",
    "                            start_x:start_x+min_side]\n",
    "            resized = cv2.resize(cropped, (size, size))\n",
    "            out_path = out_dir / f\"{saved_idx:06d}.jpg\"\n",
    "            cv2.imwrite(str(out_path), resized)\n",
    "            saved_idx += 1\n",
    "        frame_idx += 1\n",
    "    cap.release()\n",
    "    print(f\"Save {saved_idx} frames to {out_dir}\")"
   ]
  },
  {
   "cell_type": "code",
   "execution_count": null,
   "metadata": {},
   "outputs": [],
   "source": [
    "extract_frames_from_video(\"path/to/video.mp4\", \"output_folder\", step=30)"
   ]
  }
 ],
 "metadata": {
  "language_info": {
   "name": "python"
  }
 },
 "nbformat": 4,
 "nbformat_minor": 2
}

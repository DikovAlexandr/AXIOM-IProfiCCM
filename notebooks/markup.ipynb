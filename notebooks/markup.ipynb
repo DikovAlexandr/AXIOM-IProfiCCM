{
 "cells": [
  {
   "cell_type": "code",
   "execution_count": 1,
   "metadata": {},
   "outputs": [],
   "source": [
    "import os\n",
    "import cv2\n",
    "import exifread\n",
    "import numpy as np\n",
    "import pandas as pd\n",
    "from pathlib import Path\n",
    "import ipywidgets as widgets\n",
    "from IPython.display import display\n",
    "from ipyleaflet import (\n",
    "    Map, \n",
    "    Marker, \n",
    "    basemaps, \n",
    "    basemap_to_tiles\n",
    ")"
   ]
  },
  {
   "cell_type": "code",
   "execution_count": 18,
   "metadata": {},
   "outputs": [
    {
     "name": "stdout",
     "output_type": "stream",
     "text": [
      "lat = 0.00000473 * tx + -0.00000916 * ty + 55.92920259\n",
      "lon = -0.00001008 * tx + 0.00000206 * ty + 37.51733509\n"
     ]
    }
   ],
   "source": [
    "# tx=-4.77, ty=20.48   -> (55.929142, 37.517628)\n",
    "# tx=-97.27, ty=107.93 -> (55.927658, 37.518561)\n",
    "# tx=-87.20, ty=48.72  -> (55.928269, 37.518217)\n",
    "# tx=88.88, ty=-10.31  -> (55.929603, 37.516117)\n",
    "# tx=140.10, ty=-38.89 -> (55.930106, 37.515986)\n",
    "# tx=44.77, ty=20.88   -> (55.929475, 37.516956)\n",
    "# Let:\n",
    "# lat = a1 * tx + b1 * ty + c1\n",
    "# lon = a2 * tx + b2 * ty + c2\n",
    "\n",
    "local = np.array([\n",
    "    [-4.77,  20.48],\n",
    "    [-97.27, 107.93],\n",
    "    [-87.20,  48.72],\n",
    "    [ 88.88, -10.31],\n",
    "    [140.10, -38.89],\n",
    "    [ 44.77,  20.88]\n",
    "])\n",
    "\n",
    "geo = np.array([\n",
    "    [55.929142, 37.517628],\n",
    "    [55.927658, 37.518561],\n",
    "    [55.928269, 37.518217],\n",
    "    [55.929603, 37.516117],\n",
    "    [55.930106, 37.515986],\n",
    "    [55.929475, 37.516956]\n",
    "])\n",
    "\n",
    "A = np.hstack([local, np.ones((local.shape[0], 1))])\n",
    "lat_coeffs, _, _, _ = np.linalg.lstsq(A, geo[:,0], rcond=None)\n",
    "lon_coeffs, _, _, _ = np.linalg.lstsq(A, geo[:,1], rcond=None)\n",
    "\n",
    "print(f\"lat = {lat_coeffs[0]:.8f} * tx + {lat_coeffs[1]:.8f} * ty + {lat_coeffs[2]:.8f}\")\n",
    "print(f\"lon = {lon_coeffs[0]:.8f} * tx + {lon_coeffs[1]:.8f} * ty + {lon_coeffs[2]:.8f}\")"
   ]
  },
  {
   "cell_type": "code",
   "execution_count": 19,
   "metadata": {},
   "outputs": [],
   "source": [
    "IMG_DIR = Path(\"../data/test/07_2023-10-04-day/front_cam\")\n",
    "TRACK_CSV = Path(\"../data/test/07_2023-10-04-day/track.csv\")\n",
    "df = pd.read_csv(\n",
    "    TRACK_CSV,\n",
    "    dtype={'front_cam_ts': str}\n",
    ")\n",
    "img_files = [IMG_DIR / f\"{row['front_cam_ts']}.jpg\" for _, row in df.iterrows()]\n",
    "coords = df[['tx', 'ty']].values"
   ]
  },
  {
   "cell_type": "code",
   "execution_count": 20,
   "metadata": {},
   "outputs": [],
   "source": [
    "def fit_affine(local_coords, geo_coords):\n",
    "    A = np.hstack([local_coords, np.ones((local_coords.shape[0], 1))])\n",
    "    lat_coeffs, _, _, _ = np.linalg.lstsq(A, geo_coords[:, 0], rcond=None)\n",
    "    lon_coeffs, _, _, _ = np.linalg.lstsq(A, geo_coords[:, 1], rcond=None)\n",
    "    return lat_coeffs, lon_coeffs\n",
    "\n",
    "def local_to_geo(tx, ty, lat_coeffs, lon_coeffs):\n",
    "    lat = lat_coeffs[0] * tx + lat_coeffs[1] * ty + lat_coeffs[2]\n",
    "    lon = lon_coeffs[0] * tx + lon_coeffs[1] * ty + lon_coeffs[2]\n",
    "    return lat, lon\n",
    "\n",
    "def geo_to_local(lat, lon, lat_coeffs, lon_coeffs):\n",
    "    A = np.array([[lat_coeffs[0], lat_coeffs[1]], [lon_coeffs[0], lon_coeffs[1]]])\n",
    "    b = np.array([lat - lat_coeffs[2], lon - lon_coeffs[2]])\n",
    "    tx, ty = np.linalg.solve(A, b)\n",
    "    return tx, ty"
   ]
  },
  {
   "cell_type": "code",
   "execution_count": 36,
   "metadata": {},
   "outputs": [
    {
     "data": {
      "application/vnd.jupyter.widget-view+json": {
       "model_id": "157f41d73dc64623b8a39e4985735d4f",
       "version_major": 2,
       "version_minor": 0
      },
      "text/plain": [
       "HBox(children=(VBox(children=(Image(value=b'\\x89PNG\\r\\n\\x1a\\n\\x00\\x00\\x00\\rIHDR\\x00\\x00\\x01h\\x00\\x00\\x01h\\x08\\…"
      ]
     },
     "metadata": {},
     "output_type": "display_data"
    },
    {
     "data": {
      "application/vnd.jupyter.widget-view+json": {
       "model_id": "85f1c5614fe9432e9839241936a07440",
       "version_major": 2,
       "version_minor": 0
      },
      "text/plain": [
       "HBox(children=(Button(description='← Предыдущее', style=ButtonStyle()), Button(description='Следующее →', styl…"
      ]
     },
     "metadata": {},
     "output_type": "display_data"
    }
   ],
   "source": [
    "img_name_label = widgets.Label()\n",
    "coords_label = widgets.Label()\n",
    "\n",
    "def show_image(img_path):\n",
    "    img = cv2.imread(str(img_path))\n",
    "    if img is None:\n",
    "        img = np.zeros((360, 360, 3), dtype=np.uint8)\n",
    "    else:\n",
    "        img = cv2.resize(img, (360, 360))\n",
    "        rgb = cv2.cvtColor(img, cv2.COLOR_BGR2RGB)\n",
    "        bgr = cv2.cvtColor(rgb, cv2.COLOR_RGB2BGR)\n",
    "        img = bgr\n",
    "    data = cv2.imencode('.png', img)[1].tobytes()\n",
    "    return widgets.Image(value=data, format='png', width=360, height=360)\n",
    "\n",
    "idx = 0\n",
    "img_widget = show_image(img_files[idx])\n",
    "center = (coords[idx,1], coords[idx,0])\n",
    "m = Map(center=center, zoom=18, basemap=basemaps.OpenStreetMap.Mapnik, scroll_wheel_zoom=True)\n",
    "marker = Marker(location=center, draggable=True)\n",
    "m.add_layer(marker)\n",
    "\n",
    "def update_widgets():\n",
    "    global idx\n",
    "    img_widget.value = cv2.imencode('.png', cv2.cvtColor(cv2.imread(str(img_files[idx])), cv2.COLOR_BGR2RGB))[1].tobytes()\n",
    "    tx, ty = coords[idx,0], coords[idx,1]\n",
    "    lat, lon = local_to_geo(tx, ty, lat_coeffs, lon_coeffs)\n",
    "    marker.location = (lat, lon)\n",
    "    m.center = marker.location\n",
    "    img_name_label.value = f\"Файл: {img_files[idx].name}\"\n",
    "    coords_label.value = f\"Локальные: tx={tx:.2f}, ty={ty:.2f} | Гео: lat={lat:.6f}, lon={lon:.6f}\"\n",
    "\n",
    "def on_next(b):\n",
    "    global idx\n",
    "    if idx < len(img_files) - 1:\n",
    "        idx += 1\n",
    "        update_widgets()\n",
    "\n",
    "def on_prev(b):\n",
    "    global idx\n",
    "    if idx > 0:\n",
    "        idx -= 1\n",
    "        update_widgets()\n",
    "\n",
    "def on_marker_drag(event=None, **kwargs):\n",
    "    lat, lon = marker.location\n",
    "    tx, ty = geo_to_local(lat, lon, lat_coeffs, lon_coeffs)\n",
    "    coords[idx,0] = tx\n",
    "    coords[idx,1] = ty\n",
    "    df.loc[idx, 'tx'] = tx\n",
    "    df.loc[idx, 'ty'] = ty\n",
    "    coords_label.value = f\"Локальные: tx={tx:.2f}, ty={ty:.2f} | Гео: lat={lat:.6f}, lon={lon:.6f}\"\n",
    "\n",
    "marker.observe(on_marker_drag, names='location')\n",
    "\n",
    "btn_prev = widgets.Button(description=\"← Предыдущее\")\n",
    "btn_next = widgets.Button(description=\"Следующее →\")\n",
    "btn_prev.on_click(on_prev)\n",
    "btn_next.on_click(on_next)\n",
    "\n",
    "info_box = widgets.VBox([img_name_label, coords_label])\n",
    "ui = widgets.HBox([widgets.VBox([img_widget, info_box]), m])\n",
    "controls = widgets.HBox([btn_prev, btn_next])\n",
    "display(ui, controls)\n",
    "\n",
    "def save_annotations():\n",
    "    df[['tx', 'ty']].to_csv(\"annotated_coords.csv\", index=False)\n",
    "\n",
    "update_widgets()"
   ]
  },
  {
   "cell_type": "code",
   "execution_count": 35,
   "metadata": {},
   "outputs": [
    {
     "data": {
      "application/vnd.jupyter.widget-view+json": {
       "model_id": "07aa118fa73f41528fc6c9172c56e68f",
       "version_major": 2,
       "version_minor": 0
      },
      "text/plain": [
       "Image(value=b'\\x89PNG\\r\\n\\x1a\\n\\x00\\x00\\x00\\rIHDR\\x00\\x00\\x01h\\x00\\x00\\x01h\\x08\\x02\\x00\\x00\\x00\\xf5\\x87\\xf6\\x8…"
      ]
     },
     "execution_count": 35,
     "metadata": {},
     "output_type": "execute_result"
    }
   ],
   "source": [
    "def show_image(img_path):\n",
    "    img = cv2.imread(str(img_path))\n",
    "    if img is None:\n",
    "        img = np.zeros((360, 360, 3), dtype=np.uint8)\n",
    "    else:\n",
    "        img = cv2.resize(img, (360, 360))\n",
    "        rgb  = cv2.cvtColor(img, cv2.COLOR_BGR2RGB)\n",
    "        bgr  = cv2.cvtColor(rgb, cv2.COLOR_RGB2BGR)\n",
    "        img  = bgr\n",
    "    data = cv2.imencode('.png', img)[1].tobytes()\n",
    "    return widgets.Image(value=data, format='png', width=360, height=360)\n",
    "\n",
    "show_image(img_files[5])"
   ]
  },
  {
   "cell_type": "markdown",
   "metadata": {},
   "source": []
  },
  {
   "cell_type": "code",
   "execution_count": 2,
   "metadata": {},
   "outputs": [],
   "source": [
    "def get_gps_coords_exifread(path):\n",
    "    with open(path, 'rb') as f:\n",
    "        tags = exifread.process_file(f, details=False)\n",
    "    # Читаем теги GPS\n",
    "    lat_tag = tags.get('GPS GPSLatitude')\n",
    "    lat_ref = tags.get('GPS GPSLatitudeRef')\n",
    "    lon_tag = tags.get('GPS GPSLongitude')\n",
    "    lon_ref = tags.get('GPS GPSLongitudeRef')\n",
    "    if not all([lat_tag, lat_ref, lon_tag, lon_ref]):\n",
    "        return None\n",
    "\n",
    "    def _to_deg(value):\n",
    "        # value — список Ratio-объектов [(num, den), ...]\n",
    "        d, m, s = [float(v.num) / float(v.den) for v in value.values]\n",
    "        return d + m/60 + s/3600\n",
    "\n",
    "    lat = _to_deg(lat_tag)\n",
    "    if lat_ref.values[0] == 'S':\n",
    "        lat = -lat\n",
    "    lon = _to_deg(lon_tag)\n",
    "    if lon_ref.values[0] == 'W':\n",
    "        lon = -lon\n",
    "\n",
    "    return lat, lon"
   ]
  },
  {
   "cell_type": "code",
   "execution_count": 5,
   "metadata": {},
   "outputs": [],
   "source": [
    "axiom_data_path = Path(\"../data/axiom_data\")\n",
    "axiom_images = os.listdir(axiom_data_path)"
   ]
  },
  {
   "cell_type": "code",
   "execution_count": 9,
   "metadata": {},
   "outputs": [
    {
     "data": {
      "text/plain": [
       "WindowsPath('../data/axiom_data/1751530572271.jpg')"
      ]
     },
     "execution_count": 9,
     "metadata": {},
     "output_type": "execute_result"
    }
   ],
   "source": [
    "path = axiom_data_path / axiom_images[0]\n",
    "path"
   ]
  },
  {
   "cell_type": "code",
   "execution_count": 14,
   "metadata": {},
   "outputs": [
    {
     "name": "stdout",
     "output_type": "stream",
     "text": [
      "Collecting pyexiftool\n",
      "  Downloading PyExifTool-0.5.6-py3-none-any.whl.metadata (11 kB)\n",
      "Downloading PyExifTool-0.5.6-py3-none-any.whl (51 kB)\n",
      "Installing collected packages: pyexiftool\n",
      "Successfully installed pyexiftool-0.5.6\n"
     ]
    }
   ],
   "source": [
    "!pip3 install pyexiftool"
   ]
  },
  {
   "cell_type": "code",
   "execution_count": 15,
   "metadata": {},
   "outputs": [],
   "source": [
    "import exiftool"
   ]
  },
  {
   "cell_type": "code",
   "execution_count": 16,
   "metadata": {},
   "outputs": [
    {
     "ename": "FileNotFoundError",
     "evalue": "\"exiftool.exe\" is not found, on path or as absolute path",
     "output_type": "error",
     "traceback": [
      "\u001b[31m---------------------------------------------------------------------------\u001b[39m",
      "\u001b[31mFileNotFoundError\u001b[39m                         Traceback (most recent call last)",
      "\u001b[36mCell\u001b[39m\u001b[36m \u001b[39m\u001b[32mIn[16]\u001b[39m\u001b[32m, line 1\u001b[39m\n\u001b[32m----> \u001b[39m\u001b[32m1\u001b[39m \u001b[38;5;28;01mwith\u001b[39;00m \u001b[43mexiftool\u001b[49m\u001b[43m.\u001b[49m\u001b[43mExifTool\u001b[49m\u001b[43m(\u001b[49m\u001b[43m)\u001b[49m \u001b[38;5;28;01mas\u001b[39;00m et:\n\u001b[32m      2\u001b[39m     metadata = et.get_metadata(path)\n\u001b[32m      3\u001b[39m     \u001b[38;5;28mprint\u001b[39m(metadata)\n",
      "\u001b[36mFile \u001b[39m\u001b[32mc:\\Users\\alex\\AppData\\Local\\Programs\\Python\\Python311\\Lib\\site-packages\\exiftool\\exiftool.py:292\u001b[39m, in \u001b[36mExifTool.__init__\u001b[39m\u001b[34m(self, executable, common_args, win_shell, config_file, encoding, logger)\u001b[39m\n\u001b[32m    288\u001b[39m \u001b[38;5;28mself\u001b[39m.logger = logger\n\u001b[32m    290\u001b[39m \u001b[38;5;66;03m# use the passed in parameter, or the default if not set\u001b[39;00m\n\u001b[32m    291\u001b[39m \u001b[38;5;66;03m# error checking is done in the property.setter\u001b[39;00m\n\u001b[32m--> \u001b[39m\u001b[32m292\u001b[39m \u001b[38;5;28;43mself\u001b[39;49m\u001b[43m.\u001b[49m\u001b[43mexecutable\u001b[49m = executable \u001b[38;5;129;01mor\u001b[39;00m constants.DEFAULT_EXECUTABLE\n\u001b[32m    293\u001b[39m \u001b[38;5;28mself\u001b[39m.encoding = encoding\n\u001b[32m    294\u001b[39m \u001b[38;5;28mself\u001b[39m.common_args = common_args\n",
      "\u001b[36mFile \u001b[39m\u001b[32mc:\\Users\\alex\\AppData\\Local\\Programs\\Python\\Python311\\Lib\\site-packages\\exiftool\\exiftool.py:366\u001b[39m, in \u001b[36mExifTool.executable\u001b[39m\u001b[34m(self, new_executable)\u001b[39m\n\u001b[32m    363\u001b[39m \tabs_path = shutil.which(new_executable)\n\u001b[32m    365\u001b[39m \t\u001b[38;5;28;01mif\u001b[39;00m abs_path \u001b[38;5;129;01mis\u001b[39;00m \u001b[38;5;28;01mNone\u001b[39;00m:\n\u001b[32m--> \u001b[39m\u001b[32m366\u001b[39m \t\t\u001b[38;5;28;01mraise\u001b[39;00m \u001b[38;5;167;01mFileNotFoundError\u001b[39;00m(\u001b[33mf\u001b[39m\u001b[33m'\u001b[39m\u001b[33m\"\u001b[39m\u001b[38;5;132;01m{\u001b[39;00mnew_executable\u001b[38;5;132;01m}\u001b[39;00m\u001b[33m\"\u001b[39m\u001b[33m is not found, on path or as absolute path\u001b[39m\u001b[33m'\u001b[39m)\n\u001b[32m    368\u001b[39m \u001b[38;5;66;03m# absolute path is returned\u001b[39;00m\n\u001b[32m    369\u001b[39m \u001b[38;5;28mself\u001b[39m._executable = \u001b[38;5;28mstr\u001b[39m(abs_path)\n",
      "\u001b[31mFileNotFoundError\u001b[39m: \"exiftool.exe\" is not found, on path or as absolute path"
     ]
    }
   ],
   "source": [
    "with exiftool.ExifTool() as et:\n",
    "    metadata = et.get_metadata(path)\n",
    "    print(metadata)\n",
    "    # print(metadata.get('EXIF:GPSLatitude'), metadata.get('EXIF:GPSLongitude'))"
   ]
  }
 ],
 "metadata": {
  "kernelspec": {
   "display_name": "Python 3",
   "language": "python",
   "name": "python3"
  },
  "language_info": {
   "codemirror_mode": {
    "name": "ipython",
    "version": 3
   },
   "file_extension": ".py",
   "mimetype": "text/x-python",
   "name": "python",
   "nbconvert_exporter": "python",
   "pygments_lexer": "ipython3",
   "version": "3.11.0"
  }
 },
 "nbformat": 4,
 "nbformat_minor": 2
}
